{
 "cells": [
  {
   "cell_type": "code",
   "execution_count": 5,
   "id": "71ba2f37",
   "metadata": {
    "_cell_guid": "b1076dfc-b9ad-4769-8c92-a6c4dae69d19",
    "_uuid": "8f2839f25d086af736a60e9eeb907d3b93b6e0e5",
    "execution": {
     "iopub.execute_input": "2022-03-24T18:31:18.602793Z",
     "iopub.status.busy": "2022-03-24T18:31:18.600971Z",
     "iopub.status.idle": "2022-03-24T18:31:19.758413Z",
     "shell.execute_reply": "2022-03-24T18:31:19.758932Z",
     "shell.execute_reply.started": "2022-03-24T18:24:50.377012Z"
    },
    "papermill": {
     "duration": 1.179642,
     "end_time": "2022-03-24T18:31:19.759213",
     "exception": false,
     "start_time": "2022-03-24T18:31:18.579571",
     "status": "completed"
    },
    "tags": []
   },
   "outputs": [],
   "source": [
    "import numpy as np \n",
    "import pandas as pd\n",
    "import seaborn as sns\n",
    "import matplotlib.pyplot as plt"
   ]
  },
  {
   "cell_type": "markdown",
   "id": "b461dd72",
   "metadata": {
    "papermill": {
     "duration": 0.016184,
     "end_time": "2022-03-24T18:31:19.792434",
     "exception": false,
     "start_time": "2022-03-24T18:31:19.776250",
     "status": "completed"
    },
    "tags": []
   },
   "source": [
    "* Load dataset."
   ]
  },
  {
   "cell_type": "code",
   "execution_count": 6,
   "id": "59942bc3",
   "metadata": {
    "execution": {
     "iopub.execute_input": "2022-03-24T18:31:19.829278Z",
     "iopub.status.busy": "2022-03-24T18:31:19.828610Z",
     "iopub.status.idle": "2022-03-24T18:31:20.015822Z",
     "shell.execute_reply": "2022-03-24T18:31:20.015044Z",
     "shell.execute_reply.started": "2022-03-24T18:24:50.45497Z"
    },
    "papermill": {
     "duration": 0.206605,
     "end_time": "2022-03-24T18:31:20.016019",
     "exception": false,
     "start_time": "2022-03-24T18:31:19.809414",
     "status": "completed"
    },
    "tags": []
   },
   "outputs": [
    {
     "data": {
      "text/html": [
       "<div>\n",
       "<style scoped>\n",
       "    .dataframe tbody tr th:only-of-type {\n",
       "        vertical-align: middle;\n",
       "    }\n",
       "\n",
       "    .dataframe tbody tr th {\n",
       "        vertical-align: top;\n",
       "    }\n",
       "\n",
       "    .dataframe thead th {\n",
       "        text-align: right;\n",
       "    }\n",
       "</style>\n",
       "<table border=\"1\" class=\"dataframe\">\n",
       "  <thead>\n",
       "    <tr style=\"text-align: right;\">\n",
       "      <th></th>\n",
       "      <th>id</th>\n",
       "      <th>age</th>\n",
       "      <th>gender</th>\n",
       "      <th>height</th>\n",
       "      <th>weight</th>\n",
       "      <th>ap_hi</th>\n",
       "      <th>ap_lo</th>\n",
       "      <th>cholesterol</th>\n",
       "      <th>gluc</th>\n",
       "      <th>smoke</th>\n",
       "      <th>alco</th>\n",
       "      <th>active</th>\n",
       "      <th>cardio</th>\n",
       "    </tr>\n",
       "  </thead>\n",
       "  <tbody>\n",
       "    <tr>\n",
       "      <th>0</th>\n",
       "      <td>0</td>\n",
       "      <td>18393</td>\n",
       "      <td>2</td>\n",
       "      <td>168</td>\n",
       "      <td>62.0</td>\n",
       "      <td>110</td>\n",
       "      <td>80</td>\n",
       "      <td>1</td>\n",
       "      <td>1</td>\n",
       "      <td>0</td>\n",
       "      <td>0</td>\n",
       "      <td>1</td>\n",
       "      <td>0</td>\n",
       "    </tr>\n",
       "    <tr>\n",
       "      <th>1</th>\n",
       "      <td>1</td>\n",
       "      <td>20228</td>\n",
       "      <td>1</td>\n",
       "      <td>156</td>\n",
       "      <td>85.0</td>\n",
       "      <td>140</td>\n",
       "      <td>90</td>\n",
       "      <td>3</td>\n",
       "      <td>1</td>\n",
       "      <td>0</td>\n",
       "      <td>0</td>\n",
       "      <td>1</td>\n",
       "      <td>1</td>\n",
       "    </tr>\n",
       "    <tr>\n",
       "      <th>2</th>\n",
       "      <td>2</td>\n",
       "      <td>18857</td>\n",
       "      <td>1</td>\n",
       "      <td>165</td>\n",
       "      <td>64.0</td>\n",
       "      <td>130</td>\n",
       "      <td>70</td>\n",
       "      <td>3</td>\n",
       "      <td>1</td>\n",
       "      <td>0</td>\n",
       "      <td>0</td>\n",
       "      <td>0</td>\n",
       "      <td>1</td>\n",
       "    </tr>\n",
       "    <tr>\n",
       "      <th>3</th>\n",
       "      <td>3</td>\n",
       "      <td>17623</td>\n",
       "      <td>2</td>\n",
       "      <td>169</td>\n",
       "      <td>82.0</td>\n",
       "      <td>150</td>\n",
       "      <td>100</td>\n",
       "      <td>1</td>\n",
       "      <td>1</td>\n",
       "      <td>0</td>\n",
       "      <td>0</td>\n",
       "      <td>1</td>\n",
       "      <td>1</td>\n",
       "    </tr>\n",
       "    <tr>\n",
       "      <th>4</th>\n",
       "      <td>4</td>\n",
       "      <td>17474</td>\n",
       "      <td>1</td>\n",
       "      <td>156</td>\n",
       "      <td>56.0</td>\n",
       "      <td>100</td>\n",
       "      <td>60</td>\n",
       "      <td>1</td>\n",
       "      <td>1</td>\n",
       "      <td>0</td>\n",
       "      <td>0</td>\n",
       "      <td>0</td>\n",
       "      <td>0</td>\n",
       "    </tr>\n",
       "  </tbody>\n",
       "</table>\n",
       "</div>"
      ],
      "text/plain": [
       "   id    age  gender  height  weight  ap_hi  ap_lo  cholesterol  gluc  smoke  \\\n",
       "0   0  18393       2     168    62.0    110     80            1     1      0   \n",
       "1   1  20228       1     156    85.0    140     90            3     1      0   \n",
       "2   2  18857       1     165    64.0    130     70            3     1      0   \n",
       "3   3  17623       2     169    82.0    150    100            1     1      0   \n",
       "4   4  17474       1     156    56.0    100     60            1     1      0   \n",
       "\n",
       "   alco  active  cardio  \n",
       "0     0       1       0  \n",
       "1     0       1       1  \n",
       "2     0       0       1  \n",
       "3     0       1       1  \n",
       "4     0       0       0  "
      ]
     },
     "execution_count": 6,
     "metadata": {},
     "output_type": "execute_result"
    }
   ],
   "source": [
    "df = pd.read_csv(\"D:\\Progetti\\Medical Data\\medical_examination.csv\")\n",
    "df.head()"
   ]
  },
  {
   "cell_type": "markdown",
   "id": "c1ffe47d",
   "metadata": {
    "papermill": {
     "duration": 0.016777,
     "end_time": "2022-03-24T18:31:20.049775",
     "exception": false,
     "start_time": "2022-03-24T18:31:20.032998",
     "status": "completed"
    },
    "tags": []
   },
   "source": [
    "* Age column is expressed in days. For a better reading, we will convert age in years."
   ]
  },
  {
   "cell_type": "code",
   "execution_count": 7,
   "id": "bb597406",
   "metadata": {
    "execution": {
     "iopub.execute_input": "2022-03-24T18:31:20.092850Z",
     "iopub.status.busy": "2022-03-24T18:31:20.092141Z",
     "iopub.status.idle": "2022-03-24T18:31:20.105999Z",
     "shell.execute_reply": "2022-03-24T18:31:20.106459Z",
     "shell.execute_reply.started": "2022-03-24T18:24:50.571774Z"
    },
    "papermill": {
     "duration": 0.039534,
     "end_time": "2022-03-24T18:31:20.106630",
     "exception": false,
     "start_time": "2022-03-24T18:31:20.067096",
     "status": "completed"
    },
    "tags": []
   },
   "outputs": [
    {
     "data": {
      "text/html": [
       "<div>\n",
       "<style scoped>\n",
       "    .dataframe tbody tr th:only-of-type {\n",
       "        vertical-align: middle;\n",
       "    }\n",
       "\n",
       "    .dataframe tbody tr th {\n",
       "        vertical-align: top;\n",
       "    }\n",
       "\n",
       "    .dataframe thead th {\n",
       "        text-align: right;\n",
       "    }\n",
       "</style>\n",
       "<table border=\"1\" class=\"dataframe\">\n",
       "  <thead>\n",
       "    <tr style=\"text-align: right;\">\n",
       "      <th></th>\n",
       "      <th>id</th>\n",
       "      <th>age</th>\n",
       "      <th>gender</th>\n",
       "      <th>height</th>\n",
       "      <th>weight</th>\n",
       "      <th>ap_hi</th>\n",
       "      <th>ap_lo</th>\n",
       "      <th>cholesterol</th>\n",
       "      <th>gluc</th>\n",
       "      <th>smoke</th>\n",
       "      <th>alco</th>\n",
       "      <th>active</th>\n",
       "      <th>cardio</th>\n",
       "    </tr>\n",
       "  </thead>\n",
       "  <tbody>\n",
       "    <tr>\n",
       "      <th>0</th>\n",
       "      <td>0</td>\n",
       "      <td>50</td>\n",
       "      <td>2</td>\n",
       "      <td>168</td>\n",
       "      <td>62.0</td>\n",
       "      <td>110</td>\n",
       "      <td>80</td>\n",
       "      <td>1</td>\n",
       "      <td>1</td>\n",
       "      <td>0</td>\n",
       "      <td>0</td>\n",
       "      <td>1</td>\n",
       "      <td>0</td>\n",
       "    </tr>\n",
       "    <tr>\n",
       "      <th>1</th>\n",
       "      <td>1</td>\n",
       "      <td>55</td>\n",
       "      <td>1</td>\n",
       "      <td>156</td>\n",
       "      <td>85.0</td>\n",
       "      <td>140</td>\n",
       "      <td>90</td>\n",
       "      <td>3</td>\n",
       "      <td>1</td>\n",
       "      <td>0</td>\n",
       "      <td>0</td>\n",
       "      <td>1</td>\n",
       "      <td>1</td>\n",
       "    </tr>\n",
       "    <tr>\n",
       "      <th>2</th>\n",
       "      <td>2</td>\n",
       "      <td>51</td>\n",
       "      <td>1</td>\n",
       "      <td>165</td>\n",
       "      <td>64.0</td>\n",
       "      <td>130</td>\n",
       "      <td>70</td>\n",
       "      <td>3</td>\n",
       "      <td>1</td>\n",
       "      <td>0</td>\n",
       "      <td>0</td>\n",
       "      <td>0</td>\n",
       "      <td>1</td>\n",
       "    </tr>\n",
       "    <tr>\n",
       "      <th>3</th>\n",
       "      <td>3</td>\n",
       "      <td>48</td>\n",
       "      <td>2</td>\n",
       "      <td>169</td>\n",
       "      <td>82.0</td>\n",
       "      <td>150</td>\n",
       "      <td>100</td>\n",
       "      <td>1</td>\n",
       "      <td>1</td>\n",
       "      <td>0</td>\n",
       "      <td>0</td>\n",
       "      <td>1</td>\n",
       "      <td>1</td>\n",
       "    </tr>\n",
       "    <tr>\n",
       "      <th>4</th>\n",
       "      <td>4</td>\n",
       "      <td>47</td>\n",
       "      <td>1</td>\n",
       "      <td>156</td>\n",
       "      <td>56.0</td>\n",
       "      <td>100</td>\n",
       "      <td>60</td>\n",
       "      <td>1</td>\n",
       "      <td>1</td>\n",
       "      <td>0</td>\n",
       "      <td>0</td>\n",
       "      <td>0</td>\n",
       "      <td>0</td>\n",
       "    </tr>\n",
       "  </tbody>\n",
       "</table>\n",
       "</div>"
      ],
      "text/plain": [
       "   id  age  gender  height  weight  ap_hi  ap_lo  cholesterol  gluc  smoke  \\\n",
       "0   0   50       2     168    62.0    110     80            1     1      0   \n",
       "1   1   55       1     156    85.0    140     90            3     1      0   \n",
       "2   2   51       1     165    64.0    130     70            3     1      0   \n",
       "3   3   48       2     169    82.0    150    100            1     1      0   \n",
       "4   4   47       1     156    56.0    100     60            1     1      0   \n",
       "\n",
       "   alco  active  cardio  \n",
       "0     0       1       0  \n",
       "1     0       1       1  \n",
       "2     0       0       1  \n",
       "3     0       1       1  \n",
       "4     0       0       0  "
      ]
     },
     "execution_count": 7,
     "metadata": {},
     "output_type": "execute_result"
    }
   ],
   "source": [
    "df.age = (df.age / 365).astype(int)\n",
    "df.head()"
   ]
  },
  {
   "cell_type": "markdown",
   "id": "b971382d",
   "metadata": {
    "papermill": {
     "duration": 0.017108,
     "end_time": "2022-03-24T18:31:20.141116",
     "exception": false,
     "start_time": "2022-03-24T18:31:20.124008",
     "status": "completed"
    },
    "tags": []
   },
   "source": [
    "* Calculate BMI and define if the patient is overweight. "
   ]
  },
  {
   "cell_type": "code",
   "execution_count": 8,
   "id": "ec4f0c4f",
   "metadata": {
    "execution": {
     "iopub.execute_input": "2022-03-24T18:31:20.179872Z",
     "iopub.status.busy": "2022-03-24T18:31:20.178835Z",
     "iopub.status.idle": "2022-03-24T18:31:20.245995Z",
     "shell.execute_reply": "2022-03-24T18:31:20.245485Z",
     "shell.execute_reply.started": "2022-03-24T18:24:50.591042Z"
    },
    "papermill": {
     "duration": 0.087573,
     "end_time": "2022-03-24T18:31:20.246136",
     "exception": false,
     "start_time": "2022-03-24T18:31:20.158563",
     "status": "completed"
    },
    "tags": []
   },
   "outputs": [
    {
     "data": {
      "text/html": [
       "<div>\n",
       "<style scoped>\n",
       "    .dataframe tbody tr th:only-of-type {\n",
       "        vertical-align: middle;\n",
       "    }\n",
       "\n",
       "    .dataframe tbody tr th {\n",
       "        vertical-align: top;\n",
       "    }\n",
       "\n",
       "    .dataframe thead th {\n",
       "        text-align: right;\n",
       "    }\n",
       "</style>\n",
       "<table border=\"1\" class=\"dataframe\">\n",
       "  <thead>\n",
       "    <tr style=\"text-align: right;\">\n",
       "      <th></th>\n",
       "      <th>id</th>\n",
       "      <th>age</th>\n",
       "      <th>gender</th>\n",
       "      <th>height</th>\n",
       "      <th>weight</th>\n",
       "      <th>ap_hi</th>\n",
       "      <th>ap_lo</th>\n",
       "      <th>cholesterol</th>\n",
       "      <th>gluc</th>\n",
       "      <th>smoke</th>\n",
       "      <th>alco</th>\n",
       "      <th>active</th>\n",
       "      <th>cardio</th>\n",
       "      <th>overweight</th>\n",
       "    </tr>\n",
       "  </thead>\n",
       "  <tbody>\n",
       "    <tr>\n",
       "      <th>0</th>\n",
       "      <td>0</td>\n",
       "      <td>50</td>\n",
       "      <td>2</td>\n",
       "      <td>168</td>\n",
       "      <td>62.0</td>\n",
       "      <td>110</td>\n",
       "      <td>80</td>\n",
       "      <td>1</td>\n",
       "      <td>1</td>\n",
       "      <td>0</td>\n",
       "      <td>0</td>\n",
       "      <td>1</td>\n",
       "      <td>0</td>\n",
       "      <td>0</td>\n",
       "    </tr>\n",
       "    <tr>\n",
       "      <th>1</th>\n",
       "      <td>1</td>\n",
       "      <td>55</td>\n",
       "      <td>1</td>\n",
       "      <td>156</td>\n",
       "      <td>85.0</td>\n",
       "      <td>140</td>\n",
       "      <td>90</td>\n",
       "      <td>3</td>\n",
       "      <td>1</td>\n",
       "      <td>0</td>\n",
       "      <td>0</td>\n",
       "      <td>1</td>\n",
       "      <td>1</td>\n",
       "      <td>1</td>\n",
       "    </tr>\n",
       "    <tr>\n",
       "      <th>2</th>\n",
       "      <td>2</td>\n",
       "      <td>51</td>\n",
       "      <td>1</td>\n",
       "      <td>165</td>\n",
       "      <td>64.0</td>\n",
       "      <td>130</td>\n",
       "      <td>70</td>\n",
       "      <td>3</td>\n",
       "      <td>1</td>\n",
       "      <td>0</td>\n",
       "      <td>0</td>\n",
       "      <td>0</td>\n",
       "      <td>1</td>\n",
       "      <td>0</td>\n",
       "    </tr>\n",
       "    <tr>\n",
       "      <th>3</th>\n",
       "      <td>3</td>\n",
       "      <td>48</td>\n",
       "      <td>2</td>\n",
       "      <td>169</td>\n",
       "      <td>82.0</td>\n",
       "      <td>150</td>\n",
       "      <td>100</td>\n",
       "      <td>1</td>\n",
       "      <td>1</td>\n",
       "      <td>0</td>\n",
       "      <td>0</td>\n",
       "      <td>1</td>\n",
       "      <td>1</td>\n",
       "      <td>1</td>\n",
       "    </tr>\n",
       "    <tr>\n",
       "      <th>4</th>\n",
       "      <td>4</td>\n",
       "      <td>47</td>\n",
       "      <td>1</td>\n",
       "      <td>156</td>\n",
       "      <td>56.0</td>\n",
       "      <td>100</td>\n",
       "      <td>60</td>\n",
       "      <td>1</td>\n",
       "      <td>1</td>\n",
       "      <td>0</td>\n",
       "      <td>0</td>\n",
       "      <td>0</td>\n",
       "      <td>0</td>\n",
       "      <td>0</td>\n",
       "    </tr>\n",
       "  </tbody>\n",
       "</table>\n",
       "</div>"
      ],
      "text/plain": [
       "   id  age  gender  height  weight  ap_hi  ap_lo  cholesterol  gluc  smoke  \\\n",
       "0   0   50       2     168    62.0    110     80            1     1      0   \n",
       "1   1   55       1     156    85.0    140     90            3     1      0   \n",
       "2   2   51       1     165    64.0    130     70            3     1      0   \n",
       "3   3   48       2     169    82.0    150    100            1     1      0   \n",
       "4   4   47       1     156    56.0    100     60            1     1      0   \n",
       "\n",
       "   alco  active  cardio  overweight  \n",
       "0     0       1       0           0  \n",
       "1     0       1       1           1  \n",
       "2     0       0       1           0  \n",
       "3     0       1       1           1  \n",
       "4     0       0       0           0  "
      ]
     },
     "execution_count": 8,
     "metadata": {},
     "output_type": "execute_result"
    }
   ],
   "source": [
    "df['overweight']=(df['weight'] / (df['height']/100)**2).apply(lambda x: 1 if x > 25 else 0)\n",
    "df.head()"
   ]
  },
  {
   "cell_type": "markdown",
   "id": "ea401bfe",
   "metadata": {
    "papermill": {
     "duration": 0.018075,
     "end_time": "2022-03-24T18:31:20.282059",
     "exception": false,
     "start_time": "2022-03-24T18:31:20.263984",
     "status": "completed"
    },
    "tags": []
   },
   "source": [
    "* Transform 'cholesterol' and 'gluc' in binary variables."
   ]
  },
  {
   "cell_type": "code",
   "execution_count": 9,
   "id": "100184cd",
   "metadata": {
    "execution": {
     "iopub.execute_input": "2022-03-24T18:31:20.322295Z",
     "iopub.status.busy": "2022-03-24T18:31:20.321336Z",
     "iopub.status.idle": "2022-03-24T18:31:20.328121Z",
     "shell.execute_reply": "2022-03-24T18:31:20.328695Z",
     "shell.execute_reply.started": "2022-03-24T18:24:50.665964Z"
    },
    "papermill": {
     "duration": 0.028603,
     "end_time": "2022-03-24T18:31:20.328869",
     "exception": false,
     "start_time": "2022-03-24T18:31:20.300266",
     "status": "completed"
    },
    "tags": []
   },
   "outputs": [],
   "source": [
    "df['cholesterol'] = np.where(df['cholesterol']==1, 0, 1)\n",
    "df['gluc'] = np.where(df['gluc']==1, 0, 1)"
   ]
  },
  {
   "cell_type": "markdown",
   "id": "1125c580",
   "metadata": {
    "papermill": {
     "duration": 0.017689,
     "end_time": "2022-03-24T18:31:20.364462",
     "exception": false,
     "start_time": "2022-03-24T18:31:20.346773",
     "status": "completed"
    },
    "tags": []
   },
   "source": [
    "* Melt dataset and prepare for plotting. Non binomial variables are dropped."
   ]
  },
  {
   "cell_type": "code",
   "execution_count": 10,
   "id": "ceaab043",
   "metadata": {
    "execution": {
     "iopub.execute_input": "2022-03-24T18:31:20.404250Z",
     "iopub.status.busy": "2022-03-24T18:31:20.403261Z",
     "iopub.status.idle": "2022-03-24T18:31:20.451386Z",
     "shell.execute_reply": "2022-03-24T18:31:20.450816Z",
     "shell.execute_reply.started": "2022-03-24T18:24:50.678309Z"
    },
    "papermill": {
     "duration": 0.069101,
     "end_time": "2022-03-24T18:31:20.451524",
     "exception": false,
     "start_time": "2022-03-24T18:31:20.382423",
     "status": "completed"
    },
    "tags": []
   },
   "outputs": [
    {
     "data": {
      "text/html": [
       "<div>\n",
       "<style scoped>\n",
       "    .dataframe tbody tr th:only-of-type {\n",
       "        vertical-align: middle;\n",
       "    }\n",
       "\n",
       "    .dataframe tbody tr th {\n",
       "        vertical-align: top;\n",
       "    }\n",
       "\n",
       "    .dataframe thead th {\n",
       "        text-align: right;\n",
       "    }\n",
       "</style>\n",
       "<table border=\"1\" class=\"dataframe\">\n",
       "  <thead>\n",
       "    <tr style=\"text-align: right;\">\n",
       "      <th></th>\n",
       "      <th>cardio</th>\n",
       "      <th>variable</th>\n",
       "      <th>value</th>\n",
       "    </tr>\n",
       "  </thead>\n",
       "  <tbody>\n",
       "    <tr>\n",
       "      <th>0</th>\n",
       "      <td>0</td>\n",
       "      <td>cholesterol</td>\n",
       "      <td>0</td>\n",
       "    </tr>\n",
       "    <tr>\n",
       "      <th>1</th>\n",
       "      <td>1</td>\n",
       "      <td>cholesterol</td>\n",
       "      <td>1</td>\n",
       "    </tr>\n",
       "    <tr>\n",
       "      <th>2</th>\n",
       "      <td>1</td>\n",
       "      <td>cholesterol</td>\n",
       "      <td>1</td>\n",
       "    </tr>\n",
       "    <tr>\n",
       "      <th>3</th>\n",
       "      <td>1</td>\n",
       "      <td>cholesterol</td>\n",
       "      <td>0</td>\n",
       "    </tr>\n",
       "    <tr>\n",
       "      <th>4</th>\n",
       "      <td>0</td>\n",
       "      <td>cholesterol</td>\n",
       "      <td>0</td>\n",
       "    </tr>\n",
       "  </tbody>\n",
       "</table>\n",
       "</div>"
      ],
      "text/plain": [
       "   cardio     variable  value\n",
       "0       0  cholesterol      0\n",
       "1       1  cholesterol      1\n",
       "2       1  cholesterol      1\n",
       "3       1  cholesterol      0\n",
       "4       0  cholesterol      0"
      ]
     },
     "execution_count": 10,
     "metadata": {},
     "output_type": "execute_result"
    }
   ],
   "source": [
    "df_to_plot = df.melt(id_vars= 'cardio', value_vars= ['cholesterol', 'gluc', 'smoke', 'alco', 'active', 'cardio', 'overweight'])\n",
    "df_to_plot.head()"
   ]
  },
  {
   "cell_type": "markdown",
   "id": "ea78fd5e",
   "metadata": {
    "papermill": {
     "duration": 0.018344,
     "end_time": "2022-03-24T18:31:20.488705",
     "exception": false,
     "start_time": "2022-03-24T18:31:20.470361",
     "status": "completed"
    },
    "tags": []
   },
   "source": [
    "* Plot and confront patients using 'cardio' variable as a comparing parameter."
   ]
  },
  {
   "cell_type": "code",
   "execution_count": 11,
   "id": "c2cf2a8f",
   "metadata": {
    "execution": {
     "iopub.execute_input": "2022-03-24T18:31:20.577350Z",
     "iopub.status.busy": "2022-03-24T18:31:20.576670Z",
     "iopub.status.idle": "2022-03-24T18:31:22.059272Z",
     "shell.execute_reply": "2022-03-24T18:31:22.058715Z",
     "shell.execute_reply.started": "2022-03-24T18:24:50.742742Z"
    },
    "papermill": {
     "duration": 1.552017,
     "end_time": "2022-03-24T18:31:22.059440",
     "exception": false,
     "start_time": "2022-03-24T18:31:20.507423",
     "status": "completed"
    },
    "tags": []
   },
   "outputs": [
    {
     "data": {
      "text/plain": [
       "<seaborn.axisgrid.FacetGrid at 0x236fad0cc40>"
      ]
     },
     "execution_count": 11,
     "metadata": {},
     "output_type": "execute_result"
    },
    {
     "data": {
      "image/png": "[encoded data removed]",
      "text/plain": [
       "<Figure size 762.375x360 with 2 Axes>"
      ]
     },
     "metadata": {
      "needs_background": "light"
     },
     "output_type": "display_data"
    }
   ],
   "source": [
    "g = sns.catplot(x='variable', hue='value', col='cardio', kind='count', order=['active','alco', 'cholesterol', 'gluc', 'overweight', 'smoke'], data=df_to_plot)\n",
    "g.set_ylabels('total')"
   ]
  },
  {
   "cell_type": "markdown",
   "id": "d7b07ab1",
   "metadata": {
    "papermill": {
     "duration": 0.019578,
     "end_time": "2022-03-24T18:31:22.099397",
     "exception": false,
     "start_time": "2022-03-24T18:31:22.079819",
     "status": "completed"
    },
    "tags": []
   },
   "source": [
    "* Data cleaning again. Drop rows where diastolic pressure is higher than systolic."
   ]
  },
  {
   "cell_type": "code",
   "execution_count": 12,
   "id": "7a1a2799",
   "metadata": {
    "execution": {
     "iopub.execute_input": "2022-03-24T18:31:22.145029Z",
     "iopub.status.busy": "2022-03-24T18:31:22.144337Z",
     "iopub.status.idle": "2022-03-24T18:31:22.163984Z",
     "shell.execute_reply": "2022-03-24T18:31:22.163485Z",
     "shell.execute_reply.started": "2022-03-24T18:24:52.332111Z"
    },
    "papermill": {
     "duration": 0.045007,
     "end_time": "2022-03-24T18:31:22.164124",
     "exception": false,
     "start_time": "2022-03-24T18:31:22.119117",
     "status": "completed"
    },
    "tags": []
   },
   "outputs": [
    {
     "data": {
      "text/html": [
       "<div>\n",
       "<style scoped>\n",
       "    .dataframe tbody tr th:only-of-type {\n",
       "        vertical-align: middle;\n",
       "    }\n",
       "\n",
       "    .dataframe tbody tr th {\n",
       "        vertical-align: top;\n",
       "    }\n",
       "\n",
       "    .dataframe thead th {\n",
       "        text-align: right;\n",
       "    }\n",
       "</style>\n",
       "<table border=\"1\" class=\"dataframe\">\n",
       "  <thead>\n",
       "    <tr style=\"text-align: right;\">\n",
       "      <th></th>\n",
       "      <th>id</th>\n",
       "      <th>age</th>\n",
       "      <th>gender</th>\n",
       "      <th>height</th>\n",
       "      <th>weight</th>\n",
       "      <th>ap_hi</th>\n",
       "      <th>ap_lo</th>\n",
       "      <th>cholesterol</th>\n",
       "      <th>gluc</th>\n",
       "      <th>smoke</th>\n",
       "      <th>alco</th>\n",
       "      <th>active</th>\n",
       "      <th>cardio</th>\n",
       "      <th>overweight</th>\n",
       "    </tr>\n",
       "  </thead>\n",
       "  <tbody>\n",
       "    <tr>\n",
       "      <th>228</th>\n",
       "      <td>314</td>\n",
       "      <td>47</td>\n",
       "      <td>2</td>\n",
       "      <td>183</td>\n",
       "      <td>98.0</td>\n",
       "      <td>160</td>\n",
       "      <td>1100</td>\n",
       "      <td>0</td>\n",
       "      <td>1</td>\n",
       "      <td>1</td>\n",
       "      <td>0</td>\n",
       "      <td>1</td>\n",
       "      <td>1</td>\n",
       "      <td>1</td>\n",
       "    </tr>\n",
       "    <tr>\n",
       "      <th>241</th>\n",
       "      <td>334</td>\n",
       "      <td>60</td>\n",
       "      <td>2</td>\n",
       "      <td>157</td>\n",
       "      <td>60.0</td>\n",
       "      <td>160</td>\n",
       "      <td>1000</td>\n",
       "      <td>1</td>\n",
       "      <td>0</td>\n",
       "      <td>0</td>\n",
       "      <td>0</td>\n",
       "      <td>0</td>\n",
       "      <td>1</td>\n",
       "      <td>0</td>\n",
       "    </tr>\n",
       "    <tr>\n",
       "      <th>260</th>\n",
       "      <td>357</td>\n",
       "      <td>49</td>\n",
       "      <td>1</td>\n",
       "      <td>150</td>\n",
       "      <td>83.0</td>\n",
       "      <td>140</td>\n",
       "      <td>800</td>\n",
       "      <td>0</td>\n",
       "      <td>0</td>\n",
       "      <td>0</td>\n",
       "      <td>0</td>\n",
       "      <td>1</td>\n",
       "      <td>1</td>\n",
       "      <td>1</td>\n",
       "    </tr>\n",
       "    <tr>\n",
       "      <th>329</th>\n",
       "      <td>458</td>\n",
       "      <td>64</td>\n",
       "      <td>1</td>\n",
       "      <td>176</td>\n",
       "      <td>63.0</td>\n",
       "      <td>160</td>\n",
       "      <td>1000</td>\n",
       "      <td>1</td>\n",
       "      <td>1</td>\n",
       "      <td>0</td>\n",
       "      <td>0</td>\n",
       "      <td>0</td>\n",
       "      <td>1</td>\n",
       "      <td>0</td>\n",
       "    </tr>\n",
       "    <tr>\n",
       "      <th>345</th>\n",
       "      <td>482</td>\n",
       "      <td>51</td>\n",
       "      <td>1</td>\n",
       "      <td>154</td>\n",
       "      <td>81.0</td>\n",
       "      <td>140</td>\n",
       "      <td>1000</td>\n",
       "      <td>1</td>\n",
       "      <td>0</td>\n",
       "      <td>0</td>\n",
       "      <td>0</td>\n",
       "      <td>1</td>\n",
       "      <td>1</td>\n",
       "      <td>1</td>\n",
       "    </tr>\n",
       "    <tr>\n",
       "      <th>...</th>\n",
       "      <td>...</td>\n",
       "      <td>...</td>\n",
       "      <td>...</td>\n",
       "      <td>...</td>\n",
       "      <td>...</td>\n",
       "      <td>...</td>\n",
       "      <td>...</td>\n",
       "      <td>...</td>\n",
       "      <td>...</td>\n",
       "      <td>...</td>\n",
       "      <td>...</td>\n",
       "      <td>...</td>\n",
       "      <td>...</td>\n",
       "      <td>...</td>\n",
       "    </tr>\n",
       "    <tr>\n",
       "      <th>69771</th>\n",
       "      <td>99659</td>\n",
       "      <td>63</td>\n",
       "      <td>1</td>\n",
       "      <td>167</td>\n",
       "      <td>81.0</td>\n",
       "      <td>160</td>\n",
       "      <td>1000</td>\n",
       "      <td>0</td>\n",
       "      <td>0</td>\n",
       "      <td>0</td>\n",
       "      <td>0</td>\n",
       "      <td>1</td>\n",
       "      <td>1</td>\n",
       "      <td>1</td>\n",
       "    </tr>\n",
       "    <tr>\n",
       "      <th>69872</th>\n",
       "      <td>99798</td>\n",
       "      <td>59</td>\n",
       "      <td>1</td>\n",
       "      <td>152</td>\n",
       "      <td>56.0</td>\n",
       "      <td>160</td>\n",
       "      <td>1000</td>\n",
       "      <td>0</td>\n",
       "      <td>0</td>\n",
       "      <td>0</td>\n",
       "      <td>0</td>\n",
       "      <td>1</td>\n",
       "      <td>1</td>\n",
       "      <td>0</td>\n",
       "    </tr>\n",
       "    <tr>\n",
       "      <th>69878</th>\n",
       "      <td>99807</td>\n",
       "      <td>58</td>\n",
       "      <td>2</td>\n",
       "      <td>168</td>\n",
       "      <td>95.0</td>\n",
       "      <td>160</td>\n",
       "      <td>1000</td>\n",
       "      <td>0</td>\n",
       "      <td>0</td>\n",
       "      <td>0</td>\n",
       "      <td>0</td>\n",
       "      <td>1</td>\n",
       "      <td>1</td>\n",
       "      <td>1</td>\n",
       "    </tr>\n",
       "    <tr>\n",
       "      <th>69885</th>\n",
       "      <td>99816</td>\n",
       "      <td>61</td>\n",
       "      <td>2</td>\n",
       "      <td>166</td>\n",
       "      <td>78.0</td>\n",
       "      <td>170</td>\n",
       "      <td>1000</td>\n",
       "      <td>0</td>\n",
       "      <td>0</td>\n",
       "      <td>0</td>\n",
       "      <td>0</td>\n",
       "      <td>0</td>\n",
       "      <td>0</td>\n",
       "      <td>1</td>\n",
       "    </tr>\n",
       "    <tr>\n",
       "      <th>69967</th>\n",
       "      <td>99955</td>\n",
       "      <td>58</td>\n",
       "      <td>2</td>\n",
       "      <td>168</td>\n",
       "      <td>63.0</td>\n",
       "      <td>140</td>\n",
       "      <td>1000</td>\n",
       "      <td>0</td>\n",
       "      <td>0</td>\n",
       "      <td>0</td>\n",
       "      <td>0</td>\n",
       "      <td>1</td>\n",
       "      <td>1</td>\n",
       "      <td>0</td>\n",
       "    </tr>\n",
       "  </tbody>\n",
       "</table>\n",
       "<p>1234 rows × 14 columns</p>\n",
       "</div>"
      ],
      "text/plain": [
       "          id  age  gender  height  weight  ap_hi  ap_lo  cholesterol  gluc  \\\n",
       "228      314   47       2     183    98.0    160   1100            0     1   \n",
       "241      334   60       2     157    60.0    160   1000            1     0   \n",
       "260      357   49       1     150    83.0    140    800            0     0   \n",
       "329      458   64       1     176    63.0    160   1000            1     1   \n",
       "345      482   51       1     154    81.0    140   1000            1     0   \n",
       "...      ...  ...     ...     ...     ...    ...    ...          ...   ...   \n",
       "69771  99659   63       1     167    81.0    160   1000            0     0   \n",
       "69872  99798   59       1     152    56.0    160   1000            0     0   \n",
       "69878  99807   58       2     168    95.0    160   1000            0     0   \n",
       "69885  99816   61       2     166    78.0    170   1000            0     0   \n",
       "69967  99955   58       2     168    63.0    140   1000            0     0   \n",
       "\n",
       "       smoke  alco  active  cardio  overweight  \n",
       "228        1     0       1       1           1  \n",
       "241        0     0       0       1           0  \n",
       "260        0     0       1       1           1  \n",
       "329        0     0       0       1           0  \n",
       "345        0     0       1       1           1  \n",
       "...      ...   ...     ...     ...         ...  \n",
       "69771      0     0       1       1           1  \n",
       "69872      0     0       1       1           0  \n",
       "69878      0     0       1       1           1  \n",
       "69885      0     0       0       0           1  \n",
       "69967      0     0       1       1           0  \n",
       "\n",
       "[1234 rows x 14 columns]"
      ]
     },
     "execution_count": 12,
     "metadata": {},
     "output_type": "execute_result"
    }
   ],
   "source": [
    "df[df.ap_lo > df.ap_hi]"
   ]
  },
  {
   "cell_type": "code",
   "execution_count": 13,
   "id": "a00b5413",
   "metadata": {
    "execution": {
     "iopub.execute_input": "2022-03-24T18:31:22.211470Z",
     "iopub.status.busy": "2022-03-24T18:31:22.210784Z",
     "iopub.status.idle": "2022-03-24T18:31:22.238090Z",
     "shell.execute_reply": "2022-03-24T18:31:22.237503Z",
     "shell.execute_reply.started": "2022-03-24T18:24:52.358468Z"
    },
    "papermill": {
     "duration": 0.053554,
     "end_time": "2022-03-24T18:31:22.238229",
     "exception": false,
     "start_time": "2022-03-24T18:31:22.184675",
     "status": "completed"
    },
    "tags": []
   },
   "outputs": [],
   "source": [
    "df = df.apply(lambda x: x[df.ap_lo<=df.ap_hi])"
   ]
  },
  {
   "cell_type": "markdown",
   "id": "4041c05a",
   "metadata": {
    "papermill": {
     "duration": 0.020393,
     "end_time": "2022-03-24T18:31:22.280573",
     "exception": false,
     "start_time": "2022-03-24T18:31:22.260180",
     "status": "completed"
    },
    "tags": []
   },
   "source": [
    "* Drop values smaller than 2.5th percentile and higher than 97.5th percentile for height and weight."
   ]
  },
  {
   "cell_type": "code",
   "execution_count": 14,
   "id": "38f38bed",
   "metadata": {
    "execution": {
     "iopub.execute_input": "2022-03-24T18:31:22.329124Z",
     "iopub.status.busy": "2022-03-24T18:31:22.328342Z",
     "iopub.status.idle": "2022-03-24T18:31:22.340127Z",
     "shell.execute_reply": "2022-03-24T18:31:22.340690Z",
     "shell.execute_reply.started": "2022-03-24T18:24:52.398374Z"
    },
    "papermill": {
     "duration": 0.039666,
     "end_time": "2022-03-24T18:31:22.340872",
     "exception": false,
     "start_time": "2022-03-24T18:31:22.301206",
     "status": "completed"
    },
    "tags": []
   },
   "outputs": [],
   "source": [
    "q1h = df.height.quantile(0.025)\n",
    "q4h = df.height.quantile(0.975)\n",
    "q1w = df.weight.quantile(0.025)\n",
    "q4w = df.weight.quantile(0.975)"
   ]
  },
  {
   "cell_type": "code",
   "execution_count": 15,
   "id": "0cd2d7b7",
   "metadata": {
    "execution": {
     "iopub.execute_input": "2022-03-24T18:31:22.387495Z",
     "iopub.status.busy": "2022-03-24T18:31:22.386790Z",
     "iopub.status.idle": "2022-03-24T18:31:22.438479Z",
     "shell.execute_reply": "2022-03-24T18:31:22.437893Z",
     "shell.execute_reply.started": "2022-03-24T18:24:52.416612Z"
    },
    "papermill": {
     "duration": 0.077437,
     "end_time": "2022-03-24T18:31:22.438643",
     "exception": false,
     "start_time": "2022-03-24T18:31:22.361206",
     "status": "completed"
    },
    "tags": []
   },
   "outputs": [],
   "source": [
    "df = df.apply(lambda x: x[df.height > q1h])\n",
    "df = df.apply(lambda x: x[df.height < q4h])"
   ]
  },
  {
   "cell_type": "code",
   "execution_count": 16,
   "id": "e02b67d9",
   "metadata": {
    "execution": {
     "iopub.execute_input": "2022-03-24T18:31:22.483387Z",
     "iopub.status.busy": "2022-03-24T18:31:22.482685Z",
     "iopub.status.idle": "2022-03-24T18:31:22.532940Z",
     "shell.execute_reply": "2022-03-24T18:31:22.532239Z",
     "shell.execute_reply.started": "2022-03-24T18:24:52.469442Z"
    },
    "papermill": {
     "duration": 0.07381,
     "end_time": "2022-03-24T18:31:22.533099",
     "exception": false,
     "start_time": "2022-03-24T18:31:22.459289",
     "status": "completed"
    },
    "tags": []
   },
   "outputs": [],
   "source": [
    "df = df.apply(lambda x: x[df.weight > q1w])\n",
    "df = df.apply(lambda x: x[df.weight < q4w])"
   ]
  },
  {
   "cell_type": "markdown",
   "id": "eb7cc609",
   "metadata": {
    "papermill": {
     "duration": 0.020421,
     "end_time": "2022-03-24T18:31:22.574744",
     "exception": false,
     "start_time": "2022-03-24T18:31:22.554323",
     "status": "completed"
    },
    "tags": []
   },
   "source": [
    "* Define correlation and heatmap."
   ]
  },
  {
   "cell_type": "code",
   "execution_count": 17,
   "id": "741b881c",
   "metadata": {
    "execution": {
     "iopub.execute_input": "2022-03-24T18:31:22.620418Z",
     "iopub.status.busy": "2022-03-24T18:31:22.619355Z",
     "iopub.status.idle": "2022-03-24T18:31:23.552282Z",
     "shell.execute_reply": "2022-03-24T18:31:23.552826Z",
     "shell.execute_reply.started": "2022-03-24T18:24:52.526776Z"
    },
    "papermill": {
     "duration": 0.957796,
     "end_time": "2022-03-24T18:31:23.553011",
     "exception": false,
     "start_time": "2022-03-24T18:31:22.595215",
     "status": "completed"
    },
    "tags": []
   },
   "outputs": [
    {
     "data": {
      "text/plain": [
       "<AxesSubplot:>"
      ]
     },
     "execution_count": 17,
     "metadata": {},
     "output_type": "execute_result"
    },
    {
     "data": {
      "image/png": "[encoded data removed]",
      "text/plain": [
       "<Figure size 1080x1080 with 2 Axes>"
      ]
     },
     "metadata": {
      "needs_background": "light"
     },
     "output_type": "display_data"
    }
   ],
   "source": [
    "corr = df.corr().round(2)\n",
    "mask = np.triu(np.ones_like(corr, dtype=bool))\n",
    "fig, ax = plt.subplots(figsize=(15,15))\n",
    "sns.heatmap(data=corr, mask=mask, vmax=0.3, annot=True)"
   ]
  },
  {
   "cell_type": "markdown",
   "id": "fa71406e",
   "metadata": {
    "papermill": {
     "duration": 0.023009,
     "end_time": "2022-03-24T18:31:23.599001",
     "exception": false,
     "start_time": "2022-03-24T18:31:23.575992",
     "status": "completed"
    },
    "tags": []
   },
   "source": [
    "**Comment:** Looking at barplot, we can see a moderate increment of weight and cholesterol values in people with cardiovascular diseases. Also, people without cardiovascular diseases seem to perform more physical activity. All other values are quite similar. Looking at heatmap, we notice a moderate correlation between cardiac problems and Diastolic blood pressure."
   ]
  }
 ],
 "metadata": {
  "kernelspec": {
   "display_name": "Python 3",
   "language": "python",
   "name": "python3"
  },
  "language_info": {
   "codemirror_mode": {
    "name": "ipython",
    "version": 3
   },
   "file_extension": ".py",
   "mimetype": "text/x-python",
   "name": "python",
   "nbconvert_exporter": "python",
   "pygments_lexer": "ipython3",
   "version": "3.10.4"
  },
  "papermill": {
   "default_parameters": {},
   "duration": 16.364294,
   "end_time": "2022-03-24T18:31:24.434217",
   "environment_variables": {},
   "exception": null,
   "input_path": "__notebook__.ipynb",
   "output_path": "__notebook__.ipynb",
   "parameters": {},
   "start_time": "2022-03-24T18:31:08.069923",
   "version": "2.3.3"
  }
 },
 "nbformat": 4,
 "nbformat_minor": 5
}
